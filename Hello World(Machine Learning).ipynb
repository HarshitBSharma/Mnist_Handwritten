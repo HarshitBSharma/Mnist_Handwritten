{
 "cells": [
  {
   "cell_type": "markdown",
   "metadata": {},
   "source": [
    "<h1>Hello World of Deep Learning</h1>"
   ]
  },
  {
   "cell_type": "code",
   "execution_count": 1,
   "metadata": {},
   "outputs": [
    {
     "name": "stderr",
     "output_type": "stream",
     "text": [
      "Using TensorFlow backend.\n"
     ]
    }
   ],
   "source": [
    "#For getting the mnist handwritten dataset\n",
    "from keras.datasets import mnist\n",
    "\n",
    "#We will be using the methods present inside the ImageDataGenerator class to feed our MNIST data to the NN\n",
    "from keras.preprocessing.image import ImageDataGenerator\n",
    "\n",
    "#Importing pyplot for data visualization\n",
    "import matplotlib.pyplot as plt\n",
    "#Setting matplotlib as inline will display the corresponding graph below the cell itself\n",
    "%matplotlib inline\n",
    "\n",
    "#import\n",
    "import random\n",
    "\n",
    "#Importing DL libraries\n",
    "from keras.layers import Conv2D\n",
    "from keras.layers import Flatten\n",
    "from keras.layers import Dense\n",
    "from keras.layers import MaxPool2D\n",
    "from keras.models import Sequential\n",
    "\n",
    "from keras.utils import np_utils"
   ]
  },
  {
   "cell_type": "code",
   "execution_count": 62,
   "metadata": {},
   "outputs": [],
   "source": [
    "#Loading the data\n",
    "(x_train, y_train), (x_test, y_test) = mnist.load_data()"
   ]
  },
  {
   "cell_type": "markdown",
   "metadata": {},
   "source": [
    "Before we push our data to the Neural network, let us visualize it"
   ]
  },
  {
   "cell_type": "code",
   "execution_count": 63,
   "metadata": {},
   "outputs": [
    {
     "name": "stdout",
     "output_type": "stream",
     "text": [
      "x_train shape: (60000, 28, 28)\t\ty_train.shape: (60000,)\n",
      "x_test shape: (10000, 28, 28)\t\ty_test.shape: (10000,)\n"
     ]
    }
   ],
   "source": [
    "print(f\"x_train shape: {x_train.shape}\\t\\ty_train.shape: {y_train.shape}\")\n",
    "print(f\"x_test shape: {x_test.shape}\\t\\ty_test.shape: {y_test.shape}\")\n"
   ]
  },
  {
   "cell_type": "markdown",
   "metadata": {},
   "source": [
    "<p>It's clear that the Numpy array 'x_train' returned by the function load_data has the shape (m_training examples, image rows, image_cols)</p>\n",
    "\n",
    "Let us see some sample images"
   ]
  },
  {
   "cell_type": "code",
   "execution_count": 64,
   "metadata": {},
   "outputs": [
    {
     "data": {
      "text/plain": [
       "'fig = plt.figure()\\nfor i in range(9):\\n    plt.subplot(3,3,i+1)\\n    plt.tight_layout()\\n    plt.imshow(x_train[i], cmap=\\'gray\\', interpolation=\\'none\\')\\n    plt.title = f\"{y_train[i]}\"\\n    plt.xticks([])\\n    plt.yticks([])'"
      ]
     },
     "execution_count": 64,
     "metadata": {},
     "output_type": "execute_result"
    },
    {
     "data": {
      "text/plain": [
       "<Figure size 432x288 with 0 Axes>"
      ]
     },
     "metadata": {},
     "output_type": "display_data"
    },
    {
     "data": {
      "image/png": "[encoded data removed]",
      "text/plain": [
       "<Figure size 432x288 with 8 Axes>"
      ]
     },
     "metadata": {
      "needs_background": "light"
     },
     "output_type": "display_data"
    }
   ],
   "source": [
    "#Making a pyplot figure\n",
    "plt.figure()\n",
    "\n",
    "#subplot(r,c) provide the no. of rows and columns\n",
    "f, axarr = plt.subplots(4,2) \n",
    "\n",
    "# use the created array to output your multiple images. In this case I have stacked 4 images vertically\n",
    "for i in range(4):\n",
    "    for j in range(2):\n",
    "        num = random.randint(0,500)\n",
    "        axarr[i][j].imshow(x_train[num], cmap='gray', interpolation='none')\n",
    "        axarr[i][j].set_title(f'Label: {y_train[num]}')\n",
    "        plt.tight_layout()\n",
    "\n",
    "\"\"\"fig = plt.figure()\n",
    "for i in range(9):\n",
    "    plt.subplot(3,3,i+1)\n",
    "    plt.tight_layout()\n",
    "    plt.imshow(x_train[i], cmap='gray', interpolation='none')\n",
    "    plt.title = f\"{y_train[i]}\"\n",
    "    plt.xticks([])\n",
    "    plt.yticks([])\"\"\""
   ]
  },
  {
   "cell_type": "code",
   "execution_count": 65,
   "metadata": {},
   "outputs": [
    {
     "name": "stdout",
     "output_type": "stream",
     "text": [
      "After reshaping\n",
      "x_train shape: (60000, 28, 28, 1)\t\ty_train.shape: (60000, 10)\n",
      "x_test shape: (10000, 28, 28, 1)\t\ty_test.shape: (10000, 10)\n"
     ]
    }
   ],
   "source": [
    "x_train = x_train.reshape(x_train.shape[0], 28, 28, 1).astype('float32')\n",
    "x_test = x_test.reshape(x_test.shape[0], 28, 28, 1).astype('float32')\n",
    "#Data Preprocessing\n",
    "x_train = x_train/255\n",
    "x_test= x_test/255\n",
    "\n",
    "n_classes = 10\n",
    "y_train = np_utils.to_categorical(y_train, num_classes=n_classes)\n",
    "y_test = np_utils.to_categorical(y_test, num_classes=n_classes)\n",
    "num_classes = y_test.shape[1]\n",
    "\n",
    "print(\"After reshaping\")\n",
    "print(f\"x_train shape: {x_train.shape}\\t\\ty_train.shape: {y_train.shape}\")\n",
    "print(f\"x_test shape: {x_test.shape}\\t\\ty_test.shape: {y_test.shape}\")"
   ]
  },
  {
   "cell_type": "code",
   "execution_count": null,
   "metadata": {},
   "outputs": [],
   "source": []
  },
  {
   "cell_type": "code",
   "execution_count": 66,
   "metadata": {},
   "outputs": [
    {
     "name": "stdout",
     "output_type": "stream",
     "text": [
      "Model: \"sequential_9\"\n",
      "_________________________________________________________________\n",
      "Layer (type)                 Output Shape              Param #   \n",
      "=================================================================\n",
      "conv2d_15 (Conv2D)           (None, 26, 26, 32)        320       \n",
      "_________________________________________________________________\n",
      "max_pooling2d_9 (MaxPooling2 (None, 13, 13, 32)        0         \n",
      "_________________________________________________________________\n",
      "conv2d_16 (Conv2D)           (None, 11, 11, 32)        9248      \n",
      "_________________________________________________________________\n",
      "max_pooling2d_10 (MaxPooling (None, 5, 5, 32)          0         \n",
      "_________________________________________________________________\n",
      "flatten_7 (Flatten)          (None, 800)               0         \n",
      "_________________________________________________________________\n",
      "dense_13 (Dense)             (None, 32)                25632     \n",
      "_________________________________________________________________\n",
      "dense_14 (Dense)             (None, 10)                330       \n",
      "=================================================================\n",
      "Total params: 35,530\n",
      "Trainable params: 35,530\n",
      "Non-trainable params: 0\n",
      "_________________________________________________________________\n"
     ]
    }
   ],
   "source": [
    "#Building the model\n",
    "model = Sequential()\n",
    "model.add(Conv2D(filters=32, kernel_size=3, input_shape=(28, 28, 1), activation='relu', use_bias=True))\n",
    "model.add(MaxPool2D(2,2))\n",
    "\n",
    "model.add(Conv2D(filters=32, kernel_size=3,activation='relu', use_bias=True))\n",
    "model.add(MaxPool2D(2,2))\n",
    "\n",
    "model.add(Flatten())\n",
    "\n",
    "model.add(Dense(32, activation='relu'))\n",
    "\n",
    "model.add(Dense(10, activation='softmax'))\n",
    "\n",
    "model.summary()\n"
   ]
  },
  {
   "cell_type": "code",
   "execution_count": 67,
   "metadata": {},
   "outputs": [],
   "source": [
    "#To reduce the learning rate once the loss reaches a plateau\n",
    "from keras.callbacks import ReduceLROnPlateau\n",
    "red_lr= ReduceLROnPlateau(monitor='val_acc',patience=3,verbose=1,factor=0.1)"
   ]
  },
  {
   "cell_type": "code",
   "execution_count": 68,
   "metadata": {},
   "outputs": [],
   "source": [
    "model.compile(loss='categorical_crossentropy', optimizer='adam', metrics = ['accuracy'])"
   ]
  },
  {
   "cell_type": "code",
   "execution_count": 59,
   "metadata": {},
   "outputs": [
    {
     "name": "stdout",
     "output_type": "stream",
     "text": [
      "Train on 60000 samples, validate on 10000 samples\n",
      "Epoch 1/6\n",
      "60000/60000 [==============================] - 22s 365us/step - loss: 0.2885 - accuracy: 0.9154 - val_loss: 0.0931 - val_accuracy: 0.9721\n",
      "Epoch 2/6\n",
      "60000/60000 [==============================] - 21s 352us/step - loss: 0.0818 - accuracy: 0.9751 - val_loss: 0.0553 - val_accuracy: 0.9808\n",
      "Epoch 3/6\n",
      "60000/60000 [==============================] - 22s 366us/step - loss: 0.0599 - accuracy: 0.9819 - val_loss: 0.0493 - val_accuracy: 0.9829\n",
      "Epoch 4/6\n",
      "60000/60000 [==============================] - 29s 491us/step - loss: 0.0488 - accuracy: 0.9853 - val_loss: 0.0442 - val_accuracy: 0.9854\n",
      "Epoch 5/6\n",
      "60000/60000 [==============================] - 29s 486us/step - loss: 0.0401 - accuracy: 0.9878 - val_loss: 0.0400 - val_accuracy: 0.9869\n",
      "Epoch 6/6\n",
      "60000/60000 [==============================] - 23s 390us/step - loss: 0.0353 - accuracy: 0.9892 - val_loss: 0.0577 - val_accuracy: 0.9804\n"
     ]
    }
   ],
   "source": [
    "history = model.fit(x_train, y_train, validation_data=(x_test, y_test), epochs=5, verbose=1, batch_size=128)"
   ]
  },
  {
   "cell_type": "code",
   "execution_count": 60,
   "metadata": {},
   "outputs": [
    {
     "data": {
      "image/png": "[encoded data removed]",
      "text/plain": [
       "<Figure size 432x288 with 1 Axes>"
      ]
     },
     "metadata": {
      "needs_background": "light"
     },
     "output_type": "display_data"
    },
    {
     "data": {
      "image/png": "[encoded data removed]",
      "text/plain": [
       "<Figure size 432x288 with 1 Axes>"
      ]
     },
     "metadata": {
      "needs_background": "light"
     },
     "output_type": "display_data"
    }
   ],
   "source": [
    "\n",
    "# Plot training & validation loss values\n",
    "plt.plot(history.history['loss'])\n",
    "plt.plot(history.history['val_loss'])\n",
    "plt.title('Model loss')\n",
    "plt.ylabel('Loss')\n",
    "plt.xlabel('Epoch')\n",
    "plt.legend(['Train', 'Test'], loc='upper left')\n",
    "plt.show()\n",
    "\n",
    "\n",
    "# Plot training & validation accuracy values\n",
    "plt.plot(history.history['accuracy'])\n",
    "plt.plot(history.history['val_accuracy'])\n",
    "plt.title('Model accuracy')\n",
    "plt.ylabel('Accuracy')\n",
    "plt.xlabel('Epoch')\n",
    "plt.legend(['Train', 'Test'], loc='upper left')\n",
    "plt.show()\n"
   ]
  },
  {
   "cell_type": "markdown",
   "metadata": {},
   "source": [
    "Now that our model has been trained, let us predict values\n",
    "\n",
    "\n",
    "    "
   ]
  },
  {
   "cell_type": "code",
   "execution_count": 77,
   "metadata": {},
   "outputs": [
    {
     "data": {
      "image/png": "[encoded data removed]",
      "text/plain": [
       "<Figure size 432x288 with 1 Axes>"
      ]
     },
     "metadata": {
      "needs_background": "light"
     },
     "output_type": "display_data"
    }
   ],
   "source": [
    "plt.figure()\n",
    "\n",
    "#subplot(r,c) provide the no. of rows and columns\n",
    "f, axarr = plt.subplots(4,2) \n",
    "\n",
    "# use the created array to output your multiple images. In this case I have stacked 4 images vertically\n",
    "for i in range(4):\n",
    "    for j in range(2):\n",
    "        num = random.randint(0,500)\n",
    "        output = model.predict()\n",
    "        axarr[i][j].imshow(x_train[num], cmap='gray', interpolation='none')\n",
    "        axarr[i][j].set_title(f'Label: {y_train[num]}')\n",
    "        plt.tight_layout()\n",
    "    "
   ]
  },
  {
   "cell_type": "code",
   "execution_count": null,
   "metadata": {},
   "outputs": [],
   "source": []
  }
 ],
 "metadata": {
  "kernelspec": {
   "display_name": "Python 3",
   "language": "python",
   "name": "python3"
  },
  "language_info": {
   "codemirror_mode": {
    "name": "ipython",
    "version": 3
   },
   "file_extension": ".py",
   "mimetype": "text/x-python",
   "name": "python",
   "nbconvert_exporter": "python",
   "pygments_lexer": "ipython3",
   "version": "3.7.7"
  }
 },
 "nbformat": 4,
 "nbformat_minor": 4
}
